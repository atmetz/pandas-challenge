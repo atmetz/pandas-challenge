{
 "cells": [
  {
   "attachments": {},
   "cell_type": "markdown",
   "metadata": {},
   "source": [
    "# Analysis"
   ]
  },
  {
   "cell_type": "code",
   "execution_count": 109,
   "metadata": {},
   "outputs": [],
   "source": [
    "# Import Modules\n",
    "\n",
    "import pandas as pd\n",
    "\n",
    "# Set path to data files\n",
    "student_path = \"Resources/students_complete.csv\"\n",
    "school_path = \"Resources/schools_complete.csv\"\n",
    "\n",
    "# Read in csv files and store in DataFrame\n",
    "student_df = pd.read_csv(student_path)\n",
    "school_df = pd.read_csv(school_path)\n",
    "\n",
    "# Merge data frames to create a district wide data frame\n",
    "district_df = pd.merge(school_df, student_df, on=[\"school_name\", \"school_name\"], how=\"left\")\n"
   ]
  },
  {
   "attachments": {},
   "cell_type": "markdown",
   "metadata": {},
   "source": [
    "# District Summary"
   ]
  },
  {
   "cell_type": "code",
   "execution_count": 110,
   "metadata": {},
   "outputs": [],
   "source": [
    "# Calculate District total for unique schools, students, and budget. \n",
    "unique_schools = len(district_df[\"school_name\"].unique())\n",
    "total_students = district_df[\"student_name\"].count()\n",
    "total_budget = school_df[\"budget\"].sum()\n",
    "\n",
    "# Calculate Average math and reading score\n",
    "average_math = district_df[\"math_score\"].mean()\n",
    "average_read = district_df[\"reading_score\"].mean()\n",
    "\n",
    "# Caculate percentage pass rates for math, reading, and overall\n",
    "pass_math = district_df[district_df[\"math_score\"] >= 70].count()[\"student_name\"]\n",
    "percentage_pass_math = (pass_math / total_students) * 100\n",
    "\n",
    "pass_read = district_df[district_df[\"reading_score\"] >= 70].count()[\"student_name\"]\n",
    "percentage_pass_read = (pass_read / total_students) * 100\n",
    "\n",
    "pass_overall = district_df[(district_df[\"math_score\"] >= 70) & (district_df[\"reading_score\"] >= 70)].count()[\"student_name\"]\n",
    "percentage_pass_overall = (pass_overall / total_students) * 100\n"
   ]
  },
  {
   "cell_type": "code",
   "execution_count": 111,
   "metadata": {},
   "outputs": [
    {
     "data": {
      "text/html": [
       "<div>\n",
       "<style scoped>\n",
       "    .dataframe tbody tr th:only-of-type {\n",
       "        vertical-align: middle;\n",
       "    }\n",
       "\n",
       "    .dataframe tbody tr th {\n",
       "        vertical-align: top;\n",
       "    }\n",
       "\n",
       "    .dataframe thead th {\n",
       "        text-align: right;\n",
       "    }\n",
       "</style>\n",
       "<table border=\"1\" class=\"dataframe\">\n",
       "  <thead>\n",
       "    <tr style=\"text-align: right;\">\n",
       "      <th></th>\n",
       "      <th>Total Schools</th>\n",
       "      <th>Total Students</th>\n",
       "      <th>Total Budget</th>\n",
       "      <th>Average Math Score</th>\n",
       "      <th>Average Reading Score</th>\n",
       "      <th>% Passed Math</th>\n",
       "      <th>% Passed Reading</th>\n",
       "      <th>% Passed Overall</th>\n",
       "    </tr>\n",
       "  </thead>\n",
       "  <tbody>\n",
       "    <tr>\n",
       "      <th>0</th>\n",
       "      <td>15</td>\n",
       "      <td>39,170</td>\n",
       "      <td>$24,649,428.00</td>\n",
       "      <td>78.985371</td>\n",
       "      <td>81.87784</td>\n",
       "      <td>74.980853</td>\n",
       "      <td>85.805463</td>\n",
       "      <td>65.172326</td>\n",
       "    </tr>\n",
       "  </tbody>\n",
       "</table>\n",
       "</div>"
      ],
      "text/plain": [
       "   Total Schools Total Students    Total Budget  Average Math Score  \\\n",
       "0             15         39,170  $24,649,428.00           78.985371   \n",
       "\n",
       "   Average Reading Score  % Passed Math  % Passed Reading  % Passed Overall  \n",
       "0               81.87784      74.980853         85.805463         65.172326  "
      ]
     },
     "execution_count": 111,
     "metadata": {},
     "output_type": "execute_result"
    }
   ],
   "source": [
    "# Create and populate District Summary Dataframe\n",
    "district_summary_df = pd.DataFrame({\"Total Schools\": unique_schools, \"Total Students\": total_students, \"Total Budget\": total_budget,\n",
    "                                    \"Average Math Score\": [average_math], \"Average Reading Score\": average_read, \"% Passed Math\": percentage_pass_math,\n",
    "                                    \"% Passed Reading\": percentage_pass_read, \"% Passed Overall\": percentage_pass_overall})\n",
    "# requires [] around average_math or else gets an error: ValueError: If using all scalar values, you must pass an index\n",
    "\n",
    "# Format Total Students and Total Budget to be more readable\n",
    "district_summary_df[\"Total Students\"] = district_summary_df[\"Total Students\"].map(\"{:,}\".format)\n",
    "district_summary_df[\"Total Budget\"] = district_summary_df[\"Total Budget\"].map(\"${:,.2f}\".format)\n",
    "\n",
    "district_summary_df\n",
    "\n"
   ]
  }
 ],
 "metadata": {
  "kernelspec": {
   "display_name": "PythonData",
   "language": "python",
   "name": "python3"
  },
  "language_info": {
   "codemirror_mode": {
    "name": "ipython",
    "version": 3
   },
   "file_extension": ".py",
   "mimetype": "text/x-python",
   "name": "python",
   "nbconvert_exporter": "python",
   "pygments_lexer": "ipython3",
   "version": "3.7.7"
  },
  "orig_nbformat": 4
 },
 "nbformat": 4,
 "nbformat_minor": 2
}
