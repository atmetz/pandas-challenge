{
 "cells": [
  {
   "attachments": {},
   "cell_type": "markdown",
   "metadata": {},
   "source": [
    "# Analysis"
   ]
  },
  {
   "cell_type": "code",
   "execution_count": 15,
   "metadata": {},
   "outputs": [],
   "source": [
    "# Import Modules\n",
    "\n",
    "import pandas as pd\n",
    "\n",
    "# Set path to data files\n",
    "student_path = \"Resources/students_complete.csv\"\n",
    "school_path = \"Resources/schools_complete.csv\"\n",
    "\n",
    "# Read in csv files and store in DataFrame\n",
    "student_df = pd.read_csv(student_path)\n",
    "school_df = pd.read_csv(school_path)\n",
    "\n",
    "# Merge data frames to create a district wide data frame\n",
    "district_df = pd.merge(school_df, student_df, on=\"school_name\", how=\"left\")\n",
    "\n"
   ]
  }
 ],
 "metadata": {
  "kernelspec": {
   "display_name": "PythonData",
   "language": "python",
   "name": "python3"
  },
  "language_info": {
   "codemirror_mode": {
    "name": "ipython",
    "version": 3
   },
   "file_extension": ".py",
   "mimetype": "text/x-python",
   "name": "python",
   "nbconvert_exporter": "python",
   "pygments_lexer": "ipython3",
   "version": "3.7.7"
  },
  "orig_nbformat": 4
 },
 "nbformat": 4,
 "nbformat_minor": 2
}
